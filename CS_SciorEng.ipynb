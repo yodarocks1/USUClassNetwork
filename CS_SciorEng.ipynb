{
 "cells": [
  {
   "cell_type": "code",
   "execution_count": 2,
   "id": "6fa7efcf",
   "metadata": {},
   "outputs": [],
   "source": [
    "# imports for libraries and local modules\n",
    "import main\n",
    "import numpy as np\n",
    "import json\n",
    "import networkx as nx\n",
    "import itertools\n",
    "import re\n",
    "import matplotlib\n",
    "import csv\n",
    "matplotlib.use(\"Agg\")\n",
    "import matplotlib.pyplot as plt"
   ]
  },
  {
   "attachments": {},
   "cell_type": "markdown",
   "id": "b60d7326",
   "metadata": {},
   "source": [
    "# The big question\n",
    "## Does the CS department belong more to the college of science or the college of engineering?"
   ]
  },
  {
   "attachments": {},
   "cell_type": "markdown",
   "id": "1cd2d663",
   "metadata": {},
   "source": [
    "The way we will do this is by running multiple community detection algorithms and then comparing the comunnti that have The CS department science departments and engineering departments. Going off of multiple scores and found communities that we can find which college the CS department "
   ]
  },
  {
   "attachments": {},
   "cell_type": "markdown",
   "id": "4f21ccff",
   "metadata": {},
   "source": [
    "### community detection algorithms to run"
   ]
  },
  {
   "cell_type": "code",
   "execution_count": 5,
   "id": "3f36d7ce",
   "metadata": {},
   "outputs": [],
   "source": [
    "Gf2022, Gs2023, G_reg = main.create_graphs()\n",
    "Gf2022.size()\n",
    "# nx.draw(Gf2022)\n",
    "l = list(Gf2022.nodes())\n",
    "for i in l:\n",
    "    if i.startswith('s'): Gf2022.remove_node(i)\n",
    "l = list(Gf2022.nodes())\n",
    "for i in l:\n",
    "    if i.startswith('g'): Gf2022.remove_node(i)\n",
    "l = list(Gf2022.nodes())\n",
    "# for i in l:\n",
    "#     if i.startswith('d'): Gf2022.remove_node(i)\n",
    "# for i in nx.adjacency_matrix(G_reg):\n",
    "#     print(i)\n",
    "# for i in nx.connected_components(Gf2022):\n",
    "#     print(i)\n"
   ]
  },
  {
   "attachments": {},
   "cell_type": "markdown",
   "id": "df15c14a",
   "metadata": {},
   "source": [
    "### removing isolated nodes"
   ]
  },
  {
   "cell_type": "code",
   "execution_count": 6,
   "id": "3f66a98d",
   "metadata": {},
   "outputs": [
    {
     "name": "stdout",
     "output_type": "stream",
     "text": [
      "7680\n",
      "4859\n"
     ]
    }
   ],
   "source": [
    "# remove isolated nodes\n",
    "l = [i for i in list(Gf2022.nodes()) if len(list(Gf2022.neighbors(i))) == 0]\n",
    "print(len(list(Gf2022.nodes())))\n",
    "for i in l:\n",
    "    Gf2022.remove_node(i)\n",
    "print(len(list(Gf2022.nodes())))"
   ]
  },
  {
   "cell_type": "code",
   "execution_count": 145,
   "id": "e3df744b",
   "metadata": {},
   "outputs": [],
   "source": [
    "########### useful lists\n",
    "dlist = [i for i in list(Gf2022.nodes()) if i.startswith('d')]"
   ]
  },
  {
   "cell_type": "code",
   "execution_count": null,
   "id": "049a0abb",
   "metadata": {},
   "outputs": [],
   "source": []
  },
  {
   "attachments": {},
   "cell_type": "markdown",
   "id": "2de245e8",
   "metadata": {},
   "source": [
    "### testing to see if colleges will end up in their own comunities or others\n",
    "(takes too long 40 min+)"
   ]
  },
  {
   "cell_type": "code",
   "execution_count": null,
   "id": "4054d344",
   "metadata": {},
   "outputs": [],
   "source": [
    "# gn_com = nx.community.girvan_newman(Gf2022)\n",
    "# coms = []\n",
    "# for com in itertools.islice(gn_com,1):\n",
    "#     coms.append(com)\n",
    "# len(coms)"
   ]
  },
  {
   "cell_type": "code",
   "execution_count": 146,
   "id": "eab26921",
   "metadata": {},
   "outputs": [],
   "source": [
    "sim_rank = nx.simrank_similarity(Gf2022, tolerance=.05)"
   ]
  },
  {
   "attachments": {},
   "cell_type": "markdown",
   "id": "c04a04a4",
   "metadata": {},
   "source": [
    "clustering functions based on node similarity"
   ]
  },
  {
   "cell_type": "code",
   "execution_count": 168,
   "id": "6ec438b0",
   "metadata": {},
   "outputs": [],
   "source": [
    "def merge_2_in_list(lst, i:set, j:set):\n",
    "    lst.remove(i)\n",
    "    lst.remove(j)\n",
    "    comb = set.union(i, j)\n",
    "    lst.append(comb)\n",
    "    return lst\n",
    "\n",
    "def setsim(sim_l, x, y):\n",
    "    most = 0\n",
    "    for i in x:\n",
    "        for j in y:\n",
    "            if sim_l[i][j] > most:\n",
    "                most = sim_l[i][j]\n",
    "    return most\n",
    "\n",
    "def merge_best(slist, sim_l):\n",
    "    most = 0 \n",
    "    best = ({},{})\n",
    "    for x in slist:\n",
    "        for y in slist:\n",
    "            if not x == y:\n",
    "                if setsim(sim_l, x, y) > most:\n",
    "                    best = (x,y)\n",
    "                    most = setsim(sim_l, x, y)\n",
    "    slist = merge_2_in_list(slist, best[0], best[1])\n",
    "    return slist"
   ]
  },
  {
   "cell_type": "code",
   "execution_count": 169,
   "id": "aa5a1f6c",
   "metadata": {},
   "outputs": [
    {
     "name": "stdout",
     "output_type": "stream",
     "text": [
      "{'dComputer Science'}\n",
      "{'dComputer Science'}\n",
      "{'dComputer Science'}\n",
      "{'dComputer Science'}\n",
      "{'dComputer Science'}\n",
      "{'dComputer Science'}\n",
      "{'dComputer Science'}\n",
      "{'dComputer Science'}\n",
      "{'dComputer Science'}\n",
      "{'dComputer Science'}\n",
      "{'dComputer Science'}\n",
      "{'dComputer Science'}\n",
      "{'dComputer Science'}\n",
      "{'dComputer Science'}\n",
      "{'dComputer Science'}\n",
      "{'dMathematics and Statistics', 'dComputer Science', 'dCollege Graduate Degree Programs', 'dBiology', 'dWatershed Sciences', 'dElectrical and Computer Engineering', 'dWildland Resources', 'dGeosciences', 'dEnvironment and Society', 'dPhysics', 'dMechanical and Aerospace Engineering', 'dChemistry and Biochemistry'}\n",
      "{'dMathematics and Statistics', 'dComputer Science', 'dCollege Graduate Degree Programs', 'dBiology', 'dWatershed Sciences', 'dElectrical and Computer Engineering', 'dWildland Resources', 'dGeosciences', 'dEnvironment and Society', 'dBiological Engineering', 'dPhysics', 'dMechanical and Aerospace Engineering', 'dChemistry and Biochemistry'}\n",
      "dNone 0.0\n",
      "dArt and Design 0.0016869738677209184\n",
      "dMusic 0.001298016082140616\n",
      "dTheatre Arts 0.0010817498795691145\n",
      "dAnimal, Dairy and Veterinary Sciences 0.0032939793775618913\n",
      "dApplied Economics 0.003058452026310148\n",
      "dApplied Sciences, Technology and Education 0.0026517609568662043\n",
      "dAviation Technology 0.0017128918412511018\n",
      "dLandscape Architecture and Environmental Planning 0.0014579410905385811\n",
      "dNutrition, Dietetics and Food Sciences 0.0024611052710599456\n",
      "dPlants, Soils and Climate 0.007701980279592437\n",
      "dTechnology, Design and Technical Education 0.001403977229836744\n",
      "dBiological Engineering 0.006135921440022809\n",
      "dCivil and Environmental Engineering 0.0037657593115640077\n",
      "dElectrical and Computer Engineering 0.013817100358897143\n",
      "dEngineering Education 0.0\n",
      "dMechanical and Aerospace Engineering 0.00894455550982796\n",
      "dAerospace Studies 0.0\n",
      "dCenter for Anticipatory Intelligence (CAI) 0.0\n",
      "dCenter for Intersectional Gender Studies and Research 0.001041641791269659\n",
      "dCommunication Studies and Philosophy 0.0013167121971191925\n",
      "dEnglish 0.0010981981504548618\n",
      "dHistory 0.0018965636459472028\n",
      "dJournalism and Communication 0.0008848825552120041\n",
      "dMilitary Science 8.007734628479333e-05\n",
      "dPolitical Science 0.0009738414187114823\n",
      "dSocial Work 0.0010448432998534439\n",
      "dSociology and Anthropology 0.005347494805756185\n",
      "dWorld Languages and Cultures 0.0011527631524211768\n",
      "dBiology 0.007196324834269024\n",
      "dChemistry and Biochemistry 0.0075383358937803875\n",
      "dComputer Science 1.0\n",
      "dGeosciences 0.008916532749064133\n",
      "dMathematics and Statistics 0.01756198138117592\n",
      "dPhysics 0.012728859470477173\n",
      "dCommunicative Disorders and Deaf Education 0.0008850186214139766\n",
      "dHuman Development and Family Studies 0.0010923354924925114\n",
      "dInstructional Technology and Learning Sciences 0.0010991959926670894\n",
      "dKinesiology and Health Science 0.001889970758350352\n",
      "dNursing 0.0016999291390937493\n",
      "dPsychology 0.0013801617424512864\n",
      "dSchool of Teacher Education and Leadership 0.0011539141201376308\n",
      "dSpecial Education and Rehabilitation Counseling 0.0009396251221020716\n",
      "dData Analytics and Information Systems 0.0051028248859893285\n",
      "dEconomics and Finance 0.005020609638673245\n",
      "dManagement 0.0025425479291249745\n",
      "dMarketing and Strategy 0.001988798134059199\n",
      "dSchool of Accountancy 0.0015832623713392105\n",
      "dEnvironment and Society 0.0017210259184552998\n",
      "dWatershed Sciences 0.0024023744508828875\n",
      "dWildland Resources 0.0027225001942744456\n",
      "dCollege Graduate Degree Programs 0.0007446775587291508\n"
     ]
    }
   ],
   "source": [
    "list(sim_rank.keys())[500]\n",
    "\n",
    "dsets = [{i} for i in dlist]\n",
    "\n",
    "while len(dsets) > 35:\n",
    "    dsets = merge_best(dsets, sim_rank)\n",
    "    # for s in dsets:\n",
    "    #     print(s)\n",
    "    # print()\n",
    "    for s in dsets:\n",
    "        if 'dComputer Science' in s:\n",
    "            print(s)\n",
    "for i in dlist:\n",
    "    print(i, sim_rank['dComputer Science'][i])\n"
   ]
  },
  {
   "attachments": {},
   "cell_type": "markdown",
   "id": "a1fea327",
   "metadata": {},
   "source": [
    "Computer science first unions with\n",
    "{'dMathematics and Statistics', 'dComputer Science', 'dCollege Graduate Degree Programs', 'dBiology', 'dWatershed Sciences', 'dElectrical and Computer Engineering', 'dWildland Resources', 'dGeosciences', 'dEnvironment and Society', 'dPhysics', 'dMechanical and Aerospace Engineering', 'dChemistry and Biochemistry'}\n",
    "departments CS is most similar to.\n",
    "\n",
    "Mathematics and Statistics 0.01756198138117592\n",
    "Electrical and Computer Engineering 0.013817100358897143\n",
    "Physics 0.012728859470477173\n",
    "Mechanical and Aerospace Engineering 0.00894455550982796\n",
    "Geosciences 0.008916532749064133\n",
    "Plants, Soils and Climate 0.007701980279592437\n",
    "Chemistry and Biochemistry 0.0075383358937803875\n",
    "Biology 0.007196324834269024\n",
    "Biological Engineering 0.006135921440022809\n",
    "Sociology and Anthropology 0.005347494805756185"
   ]
  },
  {
   "attachments": {},
   "cell_type": "markdown",
   "id": "56205366",
   "metadata": {},
   "source": [
    "### Common Neighbor Centrality"
   ]
  },
  {
   "cell_type": "code",
   "execution_count": 210,
   "id": "e62612f2",
   "metadata": {},
   "outputs": [],
   "source": [
    "cnc_sim = nx.common_neighbor_centrality(Gf2022, alpha=.5)"
   ]
  },
  {
   "cell_type": "code",
   "execution_count": 211,
   "id": "fd490c7e",
   "metadata": {},
   "outputs": [],
   "source": [
    "# for i in cnc_sim:\n",
    "#     print(i)\n",
    "cnc_lst = []\n",
    "for i in cnc_sim:\n",
    "    if i[0].startswith('d') and i[1].startswith('d'):\n",
    "        cnc_lst.append(i)"
   ]
  },
  {
   "attachments": {},
   "cell_type": "markdown",
   "id": "35f8655f",
   "metadata": {},
   "source": [
    "#### functions to combine a list for tuples instead of dictionaries"
   ]
  },
  {
   "cell_type": "code",
   "execution_count": 212,
   "id": "2ec95f7b",
   "metadata": {},
   "outputs": [],
   "source": [
    "def setsim2(sim_l, x, y):\n",
    "    most = 0\n",
    "    for i in x:\n",
    "        for j in y:\n",
    "            for k in sim_l:\n",
    "                if k[0] == i and k[1] == j:    \n",
    "                    if k[2] > most:\n",
    "                        most = k[2]\n",
    "    return most\n",
    "\n",
    "def merge_best2(slist, sim_l):\n",
    "    most = 0 \n",
    "    best = ({},{})\n",
    "    for x in slist:\n",
    "        for y in slist:\n",
    "            if not x == y:\n",
    "                if setsim2(sim_l, x, y) > most:\n",
    "                    best = (x,y)\n",
    "                    most = setsim2(sim_l, x, y)\n",
    "    slist = merge_2_in_list(slist, best[0], best[1])\n",
    "    return slist"
   ]
  },
  {
   "cell_type": "code",
   "execution_count": 213,
   "id": "264952d7",
   "metadata": {},
   "outputs": [
    {
     "name": "stdout",
     "output_type": "stream",
     "text": [
      "('dComputer Science', 'dMilitary Science', 404.9166666666667)\n",
      "('dComputer Science', 'dJournalism and Communication', 607.375)\n",
      "('dComputer Science', 'dBiology', 607.375)\n",
      "('dComputer Science', 'dApplied Economics', 607.375)\n",
      "('dComputer Science', 'dArt and Design', 607.375)\n",
      "('dComputer Science', 'dSchool of Teacher Education and Leadership', 607.375)\n",
      "('dComputer Science', 'dWorld Languages and Cultures', 607.375)\n",
      "('dComputer Science', 'dElectrical and Computer Engineering', 607.375)\n",
      "('dComputer Science', 'dEnvironment and Society', 607.375)\n",
      "('dComputer Science', 'dEngineering Education', 0.0)\n",
      "('dComputer Science', 'dManagement', 607.375)\n",
      "('dComputer Science', 'dCommunicative Disorders and Deaf Education', 607.375)\n",
      "('dComputer Science', 'dData Analytics and Information Systems', 607.375)\n",
      "('dComputer Science', 'dNursing', 607.375)\n",
      "('dComputer Science', 'dEnglish', 607.375)\n",
      "('dComputer Science', 'dCollege Graduate Degree Programs', 404.9166666666667)\n",
      "('dComputer Science', 'dChemistry and Biochemistry', 607.375)\n",
      "('dComputer Science', 'dTheatre Arts', 607.375)\n",
      "('dComputer Science', 'dCivil and Environmental Engineering', 607.375)\n",
      "('dComputer Science', 'dCenter for Anticipatory Intelligence (CAI)', 0.0)\n",
      "('dComputer Science', 'dBiological Engineering', 607.375)\n",
      "('dComputer Science', 'dWildland Resources', 607.375)\n",
      "('dComputer Science', 'dSocial Work', 607.375)\n",
      "('dComputer Science', 'dNutrition, Dietetics and Food Sciences', 607.375)\n",
      "('dComputer Science', 'dEconomics and Finance', 607.375)\n",
      "('dComputer Science', 'dLandscape Architecture and Environmental Planning', 607.375)\n",
      "('dComputer Science', 'dCenter for Intersectional Gender Studies and Research', 404.9166666666667)\n",
      "('dComputer Science', 'dCommunication Studies and Philosophy', 607.375)\n",
      "('dComputer Science', 'dSpecial Education and Rehabilitation Counseling', 607.375)\n",
      "('dComputer Science', 'dMechanical and Aerospace Engineering', 607.375)\n",
      "('dComputer Science', 'dSociology and Anthropology', 607.375)\n",
      "('dComputer Science', 'dGeosciences', 607.375)\n",
      "('dComputer Science', 'dAerospace Studies', 0.0)\n",
      "('dComputer Science', 'dSchool of Accountancy', 607.375)\n",
      "('dComputer Science', 'dPlants, Soils and Climate', 607.375)\n",
      "('dComputer Science', 'dAviation Technology', 607.375)\n",
      "('dComputer Science', 'dInstructional Technology and Learning Sciences', 607.375)\n",
      "('dComputer Science', 'dHuman Development and Family Studies', 607.375)\n",
      "('dComputer Science', 'dNone', 0.0)\n",
      "('dComputer Science', 'dPsychology', 607.375)\n",
      "('dComputer Science', 'dAnimal, Dairy and Veterinary Sciences', 607.375)\n",
      "('dComputer Science', 'dMarketing and Strategy', 607.375)\n",
      "('dComputer Science', 'dKinesiology and Health Science', 607.375)\n",
      "('dComputer Science', 'dPhysics', 607.375)\n",
      "('dComputer Science', 'dMusic', 607.375)\n"
     ]
    }
   ],
   "source": [
    "for i in cnc_lst:\n",
    "    if i[0] == 'dComputer Science':\n",
    "        print(i)"
   ]
  },
  {
   "attachments": {},
   "cell_type": "markdown",
   "id": "f71aec52",
   "metadata": {},
   "source": [
    "CS highest similarities according to common_neighbor_centrality\n",
    "interestingly enough more than 70% of departments shared the highest similarity score in this centraility measure."
   ]
  },
  {
   "cell_type": "code",
   "execution_count": 214,
   "id": "71c8553b",
   "metadata": {},
   "outputs": [
    {
     "name": "stdout",
     "output_type": "stream",
     "text": [
      "{'dNone'}\n",
      "{'dEngineering Education'}\n",
      "{'dAerospace Studies'}\n",
      "{'dCenter for Anticipatory Intelligence (CAI)'}\n",
      "{'dMathematics and Statistics', 'dHuman Development and Family Studies'}\n",
      "{'dKinesiology and Health Science', 'dInstructional Technology and Learning Sciences'}\n",
      "{'dNursing', 'dPsychology'}\n",
      "{'dSpecial Education and Rehabilitation Counseling', 'dSchool of Teacher Education and Leadership'}\n",
      "{'dData Analytics and Information Systems', 'dEconomics and Finance'}\n",
      "{'dMarketing and Strategy', 'dManagement'}\n",
      "{'dSchool of Accountancy', 'dArt and Design', 'dMusic'}\n",
      "{'dWildland Resources', 'dEnvironment and Society'}\n",
      "{'dCollege Graduate Degree Programs', 'dWatershed Sciences'}\n",
      "{'dTheatre Arts', 'dApplied Economics', 'dAnimal, Dairy and Veterinary Sciences', 'dAviation Technology'}\n",
      "{'dNutrition, Dietetics and Food Sciences', 'dApplied Sciences, Technology and Education', 'dMechanical and Aerospace Engineering', 'dLandscape Architecture and Environmental Planning'}\n",
      "{'dTechnology, Design and Technical Education', 'dPlants, Soils and Climate', 'dCivil and Environmental Engineering', 'dBiological Engineering'}\n",
      "{'dCommunication Studies and Philosophy', 'dElectrical and Computer Engineering', 'dEnglish', 'dCenter for Intersectional Gender Studies and Research', 'dMilitary Science'}\n",
      "{'dSocial Work', 'dHistory', 'dJournalism and Communication', 'dPolitical Science'}\n",
      "{'dPhysics', 'dSociology and Anthropology', 'dGeosciences', 'dBiology'}\n",
      "{'dCommunicative Disorders and Deaf Education', 'dComputer Science', 'dChemistry and Biochemistry', 'dWorld Languages and Cultures'}\n"
     ]
    }
   ],
   "source": [
    "dsets2 = [{i} for i in dlist]\n",
    "\n",
    "while len(dsets2) > 20:\n",
    "    dsets2 = merge_best2(dsets2, cnc_lst)\n",
    "\n",
    "for i in dsets2:\n",
    "    print(i)\n",
    "    "
   ]
  },
  {
   "attachments": {},
   "cell_type": "markdown",
   "id": "ecdc8883",
   "metadata": {},
   "source": [
    "A lot of these groupings do no make sense i believe that the degree centrality obscures how these nodes interact comparing common neighbors"
   ]
  },
  {
   "cell_type": "code",
   "execution_count": 231,
   "id": "aa945d90",
   "metadata": {},
   "outputs": [
    {
     "name": "stdout",
     "output_type": "stream",
     "text": [
      "[]\n"
     ]
    }
   ],
   "source": [
    "clique_lst = []\n",
    "genclique = nx.community.k_clique_communities(Gf2022, 3)\n",
    "for i in genclique:\n",
    "    if True in (t.startswith('d') for t in i):\n",
    "        clique_lst.append(i)\n",
    "\n",
    "for i in clique_lst:\n",
    "    print(i)\n"
   ]
  },
  {
   "cell_type": "code",
   "execution_count": 8,
   "id": "29265eef",
   "metadata": {},
   "outputs": [
    {
     "name": "stdout",
     "output_type": "stream",
     "text": [
      "7689\n",
      "4868\n",
      "{'p33679': 0.00040114325828611544, 'p34264': 0.00036771465342893915, 'p33683': 0.00028414314128599846, 'p33684': 0.00028414314128599846, 'p33681': 0.0002674288388574103, 'p34334': 0.0002507145364288221, 'gCollege of Science': 0.000234000234000234, 'p33682': 0.000234000234000234, 'p34260': 0.00018385732671446958, 'cCS 6970': 0.00010028581457152886, 'cCS 3200': 8.357151214294072e-05, 'cCS 1030': 8.357151214294072e-05, 'cPSC 6150': 6.685720971435257e-05, 'cCS 5850': 6.685720971435257e-05, 'cSOC 6150': 6.685720971435257e-05, 'cCS 5250': 6.685720971435257e-05, 'cCS 7990': 6.685720971435257e-05, 'cCS 7950': 6.685720971435257e-05, 'cCS 6250': 6.685720971435257e-05}\n"
     ]
    }
   ],
   "source": [
    "Gf2022, Gs2023, G_reg = main.create_graphs()\n",
    "Gf2022.size()\n",
    "# nx.draw(Gf2022)\n",
    "l = list(Gf2022.nodes())\n",
    "for i in l:\n",
    "    if i.startswith('s'): Gf2022.remove_node(i)\n",
    "l = [i for i in list(Gf2022.nodes()) if len(list(Gf2022.neighbors(i))) == 0]\n",
    "print(len(list(Gf2022.nodes())))\n",
    "for i in l:\n",
    "    Gf2022.remove_node(i)\n",
    "print(len(list(Gf2022.nodes())))\n",
    "\n",
    "bruh = nx.panther_similarity(Gf2022, 'dComputer Science', 20)\n",
    "print(bruh)"
   ]
  }
 ],
 "metadata": {
  "kernelspec": {
   "display_name": "Python 3",
   "language": "python",
   "name": "python3"
  },
  "language_info": {
   "codemirror_mode": {
    "name": "ipython",
    "version": 3
   },
   "file_extension": ".py",
   "mimetype": "text/x-python",
   "name": "python",
   "nbconvert_exporter": "python",
   "pygments_lexer": "ipython3",
   "version": "3.10.9"
  },
  "vscode": {
   "interpreter": {
    "hash": "8112dd241fa2daf28d9e3e7428f74cc036918cdd417492de7d9a77b623e05e74"
   }
  }
 },
 "nbformat": 4,
 "nbformat_minor": 5
}
